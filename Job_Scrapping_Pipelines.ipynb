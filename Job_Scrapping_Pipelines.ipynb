{
 "cells": [
  {
   "cell_type": "code",
   "execution_count": 16,
   "metadata": {},
   "outputs": [],
   "source": [
    "import pandas as pd\n",
    "import numpy as np\n",
    "import os\n",
    "import requests\n",
    "import json\n",
    "from bs4 import BeautifulSoup"
   ]
  },
  {
   "cell_type": "code",
   "execution_count": 17,
   "metadata": {},
   "outputs": [
    {
     "name": "stdout",
     "output_type": "stream",
     "text": [
      "/Users/eugenechua/Downloads/AI_Builder_project\n"
     ]
    }
   ],
   "source": [
    "print(os.getcwd())"
   ]
  },
  {
   "cell_type": "markdown",
   "metadata": {},
   "source": [
    "Why did I resort to using selenium? This is because when i tried using the basic request library, the HTML content output returned by **request.get** does not contain the job posting links, hence meaning they are most likely loaded dynamically by javascript.\n",
    "\n",
    "Request cannot handle javascript! so I am only seeing current static content."
   ]
  },
  {
   "cell_type": "code",
   "execution_count": 18,
   "metadata": {},
   "outputs": [],
   "source": [
    "from selenium import webdriver\n",
    "from selenium.webdriver.chrome.service import Service\n",
    "from webdriver_manager.chrome import ChromeDriverManager\n",
    "from selenium.webdriver.common.by import By\n",
    "from tqdm import tqdm\n",
    "import time\n",
    "import ast"
   ]
  },
  {
   "cell_type": "code",
   "execution_count": 5,
   "metadata": {},
   "outputs": [
    {
     "name": "stdout",
     "output_type": "stream",
     "text": [
      "Found Job Links:\n",
      "https://www.mycareersfuture.gov.sg/job/information-technology/manager-recruitpedia-77f621a9f6a42d6ad0c6145ef191bf6a?source=MCF&event=Search\n",
      "https://www.mycareersfuture.gov.sg/job/information-technology/senior-data-engineer-singapore-exchange-eed0a4f0fa2d2ac7ab6705658b107971?source=MCF&event=Search\n",
      "https://www.mycareersfuture.gov.sg/job/information-technology/data-scientist-8k-contract-evo-outsourcing-solutions-dc29fa8b88698f8693dbcafcacbde453?source=MCF&event=Search\n",
      "https://www.mycareersfuture.gov.sg/job/information-technology/data-engineer-singapore-exchange-f32ca751004b50096f5e88dcab8d8c68?source=MCF&event=Search\n",
      "https://www.mycareersfuture.gov.sg/job/healthcare/data-scientist-alexandra-hospital-national-university-health-system-f4112519a273476f578b096b49b0db60?source=MCF&event=Search\n",
      "https://www.mycareersfuture.gov.sg/job/information-technology/data-engineer-idc-technologies-512bcb3ad8445a03e862f53a39c4aee4?source=MCF&event=Search\n",
      "https://www.mycareersfuture.gov.sg/job/information-technology/data-engineer-lyneer-corp-67ec25f3bf1eee7029ae611916d2219e?source=MCF&event=Search\n",
      "https://www.mycareersfuture.gov.sg/job/consulting/service-delivery-manager-aws-data-analytics-aia-cognizant-technology-solutions-asia-pacific-789d999d5d1d7b71c11740fc6c2015dd?source=MCF&event=Search\n",
      "https://www.mycareersfuture.gov.sg/job/information-technology/data-architect-star-career-consulting-70bc3e2faf8a6753fcd439da4bb72459?source=MCF&event=Search\n",
      "https://www.mycareersfuture.gov.sg/job/information-technology/associate-ai-scientist-ai-scientist-%E2%80%93-artificial-intelligence-sap-labs-singapore-sap-asia-b9f9b59375ab7f6ca1c1623133f5b4d4?source=MCF&event=Search\n",
      "https://www.mycareersfuture.gov.sg/job/information-technology/data-scientist-practitioner-manpower-staffing-services-e4edd98348f756522312d8d8a8a0126f?source=MCF&event=Search\n",
      "https://www.mycareersfuture.gov.sg/job/information-technology/data-architect-star-career-consulting-935c1778066b9701c951032bbdca3e56?source=MCF&event=Search\n",
      "https://www.mycareersfuture.gov.sg/job/information-technology/data-science-engineer-adecco-personnel-fa77f4c2ffd6ad7240f67e3f84ea0ceb?source=MCF&event=Search\n",
      "https://www.mycareersfuture.gov.sg/job/information-technology/data-scientist-helius-technologies-f3f89df6fb8f1d052be1d5a73e569e21?source=MCF&event=Search\n",
      "https://www.mycareersfuture.gov.sg/job/information-technology/data-science-practitioner-avensys-consulting-54b5a8d8d7ca874ad120a19f8c25fb76?source=MCF&event=Search\n",
      "https://www.mycareersfuture.gov.sg/job/information-technology/data-science-practitioner-adecco-personnel-e68f3a8b80cec572cb24a73627db6938?source=MCF&event=Search\n",
      "https://www.mycareersfuture.gov.sg/job/banking-finance/data-scientist-ai-manager-technology-consulting-ernst-young-advisory-728fd758db2ce8551d83af4aa6a7f18c?source=MCF&event=Search\n",
      "https://www.mycareersfuture.gov.sg/job/banking-finance/data-scientist-ai-senior-consultant-technology-consulting-ernst-young-advisory-a40d879129861025081a82be4e2b3eea?source=MCF&event=Search\n",
      "https://www.mycareersfuture.gov.sg/job/consulting/data-engineer-senior-manager-technology-consulting-ernst-young-advisory-bbd895630c04af9a2b2db12503cde801?source=MCF&event=Search\n",
      "https://www.mycareersfuture.gov.sg/job/consulting/data-engineer-manager-technology-consulting-ernst-young-advisory-fcaec1c8da8d5b1736ba4a77161f8a9a?source=MCF&event=Search\n",
      "\n",
      "Total jobs Found: 20\n"
     ]
    }
   ],
   "source": [
    "# Set up Chrome WebDriver\n",
    "options = webdriver.ChromeOptions()\n",
    "options.add_argument(\"--headless\")  # Run in headless mode (no browser window)\n",
    "options.add_argument(\"--disable-blink-features=AutomationControlled\")  # Bypass bot detection\n",
    "options.add_argument(\"--log-level=3\")  # Suppress logs\n",
    "\n",
    "# Launch browser\n",
    "driver = webdriver.Chrome(service=Service(ChromeDriverManager().install()), options=options)\n",
    "\n",
    "# Open the MyCareersFuture page\n",
    "url = \"https://www.mycareersfuture.gov.sg/search?search=data%20scientist&sortBy=new_posting_date&page=0\"\n",
    "driver.get(url)\n",
    "\n",
    "# Wait for JavaScript to load\n",
    "time.sleep(5)  # Adjust if needed\n",
    "\n",
    "job_link_list = []\n",
    "\n",
    "# Extract job links using the correct class\n",
    "job_elements = driver.find_elements(By.CLASS_NAME, \"bg-white.mb3.w-100.dib.v-top.pa3.no-underline.flex-ns.flex-wrap.JobCard__card___22xP3\")\n",
    "\n",
    "print(\"Found Job Links:\")\n",
    "for job in job_elements:\n",
    "    job_url = job.get_attribute(\"href\")  # Extract job link\n",
    "    if job_url:\n",
    "        job_link_list.append(job_url)\n",
    "        print(job_url)\n",
    "\n",
    "# Close browser\n",
    "driver.quit()\n",
    "\n",
    "#Print the list of jobs found\n",
    "print(\"\\nTotal jobs Found:\", len(job_link_list))"
   ]
  },
  {
   "cell_type": "code",
   "execution_count": null,
   "metadata": {},
   "outputs": [
    {
     "name": "stdout",
     "output_type": "stream",
     "text": [
      "Job links saved to job_links.csv!\n"
     ]
    }
   ],
   "source": [
    "import csv\n",
    "\n",
    "# Save job links to a CSV file\n",
    "with open(\"data/job_links.csv\", \"w\", newline=\"\") as file:\n",
    "    writer = csv.writer(file)\n",
    "    writer.writerow([\"Job URL\"])  # Header\n",
    "    for link in job_link_list:\n",
    "        writer.writerow([link])\n",
    "\n",
    "print(\"Job links saved to job_links.csv!\")\n"
   ]
  },
  {
   "cell_type": "code",
   "execution_count": null,
   "metadata": {},
   "outputs": [
    {
     "data": {
      "text/html": [
       "<div>\n",
       "<style scoped>\n",
       "    .dataframe tbody tr th:only-of-type {\n",
       "        vertical-align: middle;\n",
       "    }\n",
       "\n",
       "    .dataframe tbody tr th {\n",
       "        vertical-align: top;\n",
       "    }\n",
       "\n",
       "    .dataframe thead th {\n",
       "        text-align: right;\n",
       "    }\n",
       "</style>\n",
       "<table border=\"1\" class=\"dataframe\">\n",
       "  <thead>\n",
       "    <tr style=\"text-align: right;\">\n",
       "      <th></th>\n",
       "      <th>Job URL</th>\n",
       "    </tr>\n",
       "  </thead>\n",
       "  <tbody>\n",
       "    <tr>\n",
       "      <th>0</th>\n",
       "      <td>https://www.mycareersfuture.gov.sg/job/informa...</td>\n",
       "    </tr>\n",
       "    <tr>\n",
       "      <th>1</th>\n",
       "      <td>https://www.mycareersfuture.gov.sg/job/informa...</td>\n",
       "    </tr>\n",
       "    <tr>\n",
       "      <th>2</th>\n",
       "      <td>https://www.mycareersfuture.gov.sg/job/informa...</td>\n",
       "    </tr>\n",
       "    <tr>\n",
       "      <th>3</th>\n",
       "      <td>https://www.mycareersfuture.gov.sg/job/informa...</td>\n",
       "    </tr>\n",
       "    <tr>\n",
       "      <th>4</th>\n",
       "      <td>https://www.mycareersfuture.gov.sg/job/healthc...</td>\n",
       "    </tr>\n",
       "    <tr>\n",
       "      <th>5</th>\n",
       "      <td>https://www.mycareersfuture.gov.sg/job/informa...</td>\n",
       "    </tr>\n",
       "    <tr>\n",
       "      <th>6</th>\n",
       "      <td>https://www.mycareersfuture.gov.sg/job/informa...</td>\n",
       "    </tr>\n",
       "    <tr>\n",
       "      <th>7</th>\n",
       "      <td>https://www.mycareersfuture.gov.sg/job/consult...</td>\n",
       "    </tr>\n",
       "    <tr>\n",
       "      <th>8</th>\n",
       "      <td>https://www.mycareersfuture.gov.sg/job/informa...</td>\n",
       "    </tr>\n",
       "    <tr>\n",
       "      <th>9</th>\n",
       "      <td>https://www.mycareersfuture.gov.sg/job/informa...</td>\n",
       "    </tr>\n",
       "  </tbody>\n",
       "</table>\n",
       "</div>"
      ],
      "text/plain": [
       "                                             Job URL\n",
       "0  https://www.mycareersfuture.gov.sg/job/informa...\n",
       "1  https://www.mycareersfuture.gov.sg/job/informa...\n",
       "2  https://www.mycareersfuture.gov.sg/job/informa...\n",
       "3  https://www.mycareersfuture.gov.sg/job/informa...\n",
       "4  https://www.mycareersfuture.gov.sg/job/healthc...\n",
       "5  https://www.mycareersfuture.gov.sg/job/informa...\n",
       "6  https://www.mycareersfuture.gov.sg/job/informa...\n",
       "7  https://www.mycareersfuture.gov.sg/job/consult...\n",
       "8  https://www.mycareersfuture.gov.sg/job/informa...\n",
       "9  https://www.mycareersfuture.gov.sg/job/informa..."
      ]
     },
     "execution_count": 7,
     "metadata": {},
     "output_type": "execute_result"
    }
   ],
   "source": [
    "job_postings_df = pd.read_csv('data/job_links.csv')\n",
    "job_postings_df.head(10)"
   ]
  },
  {
   "cell_type": "code",
   "execution_count": 8,
   "metadata": {},
   "outputs": [
    {
     "data": {
      "text/plain": [
       "['https://www.mycareersfuture.gov.sg/job/information-technology/manager-recruitpedia-77f621a9f6a42d6ad0c6145ef191bf6a?source=MCF&event=Search',\n",
       " 'https://www.mycareersfuture.gov.sg/job/information-technology/senior-data-engineer-singapore-exchange-eed0a4f0fa2d2ac7ab6705658b107971?source=MCF&event=Search',\n",
       " 'https://www.mycareersfuture.gov.sg/job/information-technology/data-scientist-8k-contract-evo-outsourcing-solutions-dc29fa8b88698f8693dbcafcacbde453?source=MCF&event=Search',\n",
       " 'https://www.mycareersfuture.gov.sg/job/information-technology/data-engineer-singapore-exchange-f32ca751004b50096f5e88dcab8d8c68?source=MCF&event=Search',\n",
       " 'https://www.mycareersfuture.gov.sg/job/healthcare/data-scientist-alexandra-hospital-national-university-health-system-f4112519a273476f578b096b49b0db60?source=MCF&event=Search',\n",
       " 'https://www.mycareersfuture.gov.sg/job/information-technology/data-engineer-idc-technologies-512bcb3ad8445a03e862f53a39c4aee4?source=MCF&event=Search',\n",
       " 'https://www.mycareersfuture.gov.sg/job/information-technology/data-engineer-lyneer-corp-67ec25f3bf1eee7029ae611916d2219e?source=MCF&event=Search',\n",
       " 'https://www.mycareersfuture.gov.sg/job/consulting/service-delivery-manager-aws-data-analytics-aia-cognizant-technology-solutions-asia-pacific-789d999d5d1d7b71c11740fc6c2015dd?source=MCF&event=Search',\n",
       " 'https://www.mycareersfuture.gov.sg/job/information-technology/data-architect-star-career-consulting-70bc3e2faf8a6753fcd439da4bb72459?source=MCF&event=Search',\n",
       " 'https://www.mycareersfuture.gov.sg/job/information-technology/associate-ai-scientist-ai-scientist-%E2%80%93-artificial-intelligence-sap-labs-singapore-sap-asia-b9f9b59375ab7f6ca1c1623133f5b4d4?source=MCF&event=Search',\n",
       " 'https://www.mycareersfuture.gov.sg/job/information-technology/data-scientist-practitioner-manpower-staffing-services-e4edd98348f756522312d8d8a8a0126f?source=MCF&event=Search',\n",
       " 'https://www.mycareersfuture.gov.sg/job/information-technology/data-architect-star-career-consulting-935c1778066b9701c951032bbdca3e56?source=MCF&event=Search',\n",
       " 'https://www.mycareersfuture.gov.sg/job/information-technology/data-science-engineer-adecco-personnel-fa77f4c2ffd6ad7240f67e3f84ea0ceb?source=MCF&event=Search',\n",
       " 'https://www.mycareersfuture.gov.sg/job/information-technology/data-scientist-helius-technologies-f3f89df6fb8f1d052be1d5a73e569e21?source=MCF&event=Search',\n",
       " 'https://www.mycareersfuture.gov.sg/job/information-technology/data-science-practitioner-avensys-consulting-54b5a8d8d7ca874ad120a19f8c25fb76?source=MCF&event=Search',\n",
       " 'https://www.mycareersfuture.gov.sg/job/information-technology/data-science-practitioner-adecco-personnel-e68f3a8b80cec572cb24a73627db6938?source=MCF&event=Search',\n",
       " 'https://www.mycareersfuture.gov.sg/job/banking-finance/data-scientist-ai-manager-technology-consulting-ernst-young-advisory-728fd758db2ce8551d83af4aa6a7f18c?source=MCF&event=Search',\n",
       " 'https://www.mycareersfuture.gov.sg/job/banking-finance/data-scientist-ai-senior-consultant-technology-consulting-ernst-young-advisory-a40d879129861025081a82be4e2b3eea?source=MCF&event=Search',\n",
       " 'https://www.mycareersfuture.gov.sg/job/consulting/data-engineer-senior-manager-technology-consulting-ernst-young-advisory-bbd895630c04af9a2b2db12503cde801?source=MCF&event=Search',\n",
       " 'https://www.mycareersfuture.gov.sg/job/consulting/data-engineer-manager-technology-consulting-ernst-young-advisory-fcaec1c8da8d5b1736ba4a77161f8a9a?source=MCF&event=Search']"
      ]
     },
     "execution_count": 8,
     "metadata": {},
     "output_type": "execute_result"
    }
   ],
   "source": [
    "job_link_list = [job_url for job_url in job_postings_df['Job URL']]\n",
    "job_link_list"
   ]
  },
  {
   "cell_type": "markdown",
   "metadata": {},
   "source": [
    "## Extracting job titles and job requirements + responsibilities"
   ]
  },
  {
   "cell_type": "markdown",
   "metadata": {},
   "source": [
    "Okay. This is the tricky part! I have the job links now. But I will need to go inside the job link and again using Selenium to extract the job titles and the requirements + responsibiities. I can't just use Beautifulsoup here because these information are kinda embedded using javascript which made it trickier to extract."
   ]
  },
  {
   "cell_type": "code",
   "execution_count": 9,
   "metadata": {},
   "outputs": [
    {
     "name": "stderr",
     "output_type": "stream",
     "text": [
      "Processing Job Listings: 100%|██████████| 20/20 [01:53<00:00,  5.69s/job]\n"
     ]
    }
   ],
   "source": [
    "\n",
    "# Set up Chrome WebDriver\n",
    "options = webdriver.ChromeOptions()\n",
    "options.add_argument(\"--headless\")  # Run in headless mode (no browser window)\n",
    "options.add_argument(\"--disable-blink-features=AutomationControlled\")  # Bypass bot detection\n",
    "options.add_argument(\"--log-level=3\")  # Suppress logs\n",
    "\n",
    "# Launch browser\n",
    "driver = webdriver.Chrome(service=Service(ChromeDriverManager().install()), options=options)\n",
    "\n",
    "# Lists to store scraped data\n",
    "job_titles_list = []\n",
    "job_descriptions_requirements_list = []  # Merging both into one field\n",
    "\n",
    "\n",
    "# Loop through job links\n",
    "for job_url in tqdm(job_link_list, desc='Processing Job Listings', unit='job'):\n",
    "    driver.get(job_url)\n",
    "    time.sleep(5)  # Wait for JavaScript to load\n",
    "    \n",
    "    # 1️⃣ Extract Job Title\n",
    "    jobtitle = driver.title.strip()  # Remove leading/trailing spaces\n",
    "    job_titles_list.append(jobtitle)\n",
    "\n",
    "    # 2️⃣ Extract All <li> Items from All <ul> Tags\n",
    "    try:\n",
    "        ul_elements = driver.find_elements(By.TAG_NAME, \"ul\")  # Find all <ul> elements\n",
    "        all_li_items = []  # List to store all <li> text\n",
    "        # all_li_items contains all the li items in a long list so loop through it now\n",
    "        for ul in ul_elements:\n",
    "            li_elements = ul.find_elements(By.TAG_NAME, \"li\")  # Find all <li> under each <ul>\n",
    "            for li in li_elements:\n",
    "                cleaned_text = li.text.strip()  # Clean up each <li> item\n",
    "                if cleaned_text:  # Only add if it's not empty\n",
    "                    all_li_items.append(f\"- {cleaned_text}\")\n",
    "\n",
    "        # Combine all extracted <li> into a single text block\n",
    "        job_description_requirements = \"\\n\".join(all_li_items) if all_li_items else \"Not Found\"\n",
    "    except:\n",
    "        job_description_requirements = \"Not Found\"\n",
    "\n",
    "    job_descriptions_requirements_list.append(job_description_requirements)\n",
    "\n",
    "# Close browser\n",
    "driver.quit()\n",
    "\n",
    "# Create DataFrame\n",
    "job_df = pd.DataFrame({\n",
    "    \"Job_Title\": job_titles_list,\n",
    "    \"Job_Desc_Req\": job_descriptions_requirements_list\n",
    "})\n",
    "\n"
   ]
  },
  {
   "cell_type": "code",
   "execution_count": 22,
   "metadata": {},
   "outputs": [],
   "source": [
    "# ✅ Remove all \"-\" from Job Descriptions column\n",
    "job_df[\"Job_Desc_Req\"] = job_df[\"Job_Desc_Req\"].str.replace(r\"^- \", \"\", regex=True).str.replace(r\"\\n- \", \"\\n\", regex=True)\n"
   ]
  },
  {
   "cell_type": "code",
   "execution_count": 23,
   "metadata": {},
   "outputs": [
    {
     "data": {
      "text/plain": [
       "'Collaborate with data scientists to understand their data, processing, and infrastructure needs to support AI and machine learning initiatives effectively.\\nEnsure IT infrastructure is capable of supporting AI applications by providing high-performance computing resources and cloud-based platforms.\\nFacilitate data accessibility across various sources, such as CRM, ERP, and e-commerce systems, while ensuring security and compliance.\\nWork with data scientists to operationalize machine learning models by setting up deployment, monitoring, and continuous improvement frameworks.\\nEvaluate and implement AI/ML platforms, tools, and technologies to enhance data science workflows, including model training and deployment.\\nOversee data security protocols to protect sensitive information and ensure compliance with data privacy regulations.\\nSupport data visualization initiatives and provide technical guidance to data science and BI teams for large-scale data analysis.\\nManage IT systems for optimal performance, ensuring scalability as data volumes grow and applications become more data-intensive.\\nMin Bachelor’s degree in Information Technology, Data Science, Computer Science, or a related field; master’s degree is a plus.\\nMin 5-7 years of experience in IT management, with a strong understanding of data science methodologies, machine learning, and AI tools.\\nProficiency in data science platforms and tools (e.g., TensorFlow, PyTorch, Jupyter notebooks) and cloud services supporting AI (e.g., AWS SageMaker, Google AI Platform).\\nStrong knowledge of data governance, data privacy regulations and compliance best practices.\\nExperience in overseeing model deployment processes, including MLOps and AI lifecycle management.\\nFamiliarity with BI and data visualization tools (e.g., Tableau, Power BI) and the ability to support data storytelling initiatives.'"
      ]
     },
     "execution_count": 23,
     "metadata": {},
     "output_type": "execute_result"
    }
   ],
   "source": [
    "job_df['Job_Desc_Req'][0]"
   ]
  },
  {
   "cell_type": "code",
   "execution_count": 49,
   "metadata": {},
   "outputs": [
    {
     "data": {
      "text/html": [
       "<div>\n",
       "<style scoped>\n",
       "    .dataframe tbody tr th:only-of-type {\n",
       "        vertical-align: middle;\n",
       "    }\n",
       "\n",
       "    .dataframe tbody tr th {\n",
       "        vertical-align: top;\n",
       "    }\n",
       "\n",
       "    .dataframe thead th {\n",
       "        text-align: right;\n",
       "    }\n",
       "</style>\n",
       "<table border=\"1\" class=\"dataframe\">\n",
       "  <thead>\n",
       "    <tr style=\"text-align: right;\">\n",
       "      <th></th>\n",
       "      <th>Job_Title</th>\n",
       "      <th>Job_Desc_Req</th>\n",
       "    </tr>\n",
       "  </thead>\n",
       "  <tbody>\n",
       "    <tr>\n",
       "      <th>0</th>\n",
       "      <td>IT Manager (Data Science) Information Technolo...</td>\n",
       "      <td>Collaborate with data scientists to understand...</td>\n",
       "    </tr>\n",
       "    <tr>\n",
       "      <th>1</th>\n",
       "      <td>Senior Data Engineer Information Technology Jo...</td>\n",
       "      <td>Design and implement data architecture, pipeli...</td>\n",
       "    </tr>\n",
       "    <tr>\n",
       "      <th>2</th>\n",
       "      <td>DATA SCIENTIST | UP TO $8K | CONTRACT Informat...</td>\n",
       "      <td>3-8 years of experience in computer science, a...</td>\n",
       "    </tr>\n",
       "    <tr>\n",
       "      <th>3</th>\n",
       "      <td>Data Engineer Information Technology Jobs Sing...</td>\n",
       "      <td>Design and implement data architecture, pipeli...</td>\n",
       "    </tr>\n",
       "    <tr>\n",
       "      <th>4</th>\n",
       "      <td>Data Scientist (1-year contract)(7708) - Alexa...</td>\n",
       "      <td>Bachelor’s degree (required) in fields such as...</td>\n",
       "    </tr>\n",
       "  </tbody>\n",
       "</table>\n",
       "</div>"
      ],
      "text/plain": [
       "                                           Job_Title  \\\n",
       "0  IT Manager (Data Science) Information Technolo...   \n",
       "1  Senior Data Engineer Information Technology Jo...   \n",
       "2  DATA SCIENTIST | UP TO $8K | CONTRACT Informat...   \n",
       "3  Data Engineer Information Technology Jobs Sing...   \n",
       "4  Data Scientist (1-year contract)(7708) - Alexa...   \n",
       "\n",
       "                                        Job_Desc_Req  \n",
       "0  Collaborate with data scientists to understand...  \n",
       "1  Design and implement data architecture, pipeli...  \n",
       "2  3-8 years of experience in computer science, a...  \n",
       "3  Design and implement data architecture, pipeli...  \n",
       "4  Bachelor’s degree (required) in fields such as...  "
      ]
     },
     "execution_count": 49,
     "metadata": {},
     "output_type": "execute_result"
    }
   ],
   "source": [
    "job_df.head(5)"
   ]
  },
  {
   "cell_type": "code",
   "execution_count": null,
   "metadata": {},
   "outputs": [],
   "source": [
    "#Exporting the scrapped job postings as backup first\n",
    "job_df.to_csv('data/job_data_scrapped.csv', index=False)"
   ]
  },
  {
   "cell_type": "code",
   "execution_count": 38,
   "metadata": {},
   "outputs": [
    {
     "data": {
      "text/html": [
       "<div>\n",
       "<style scoped>\n",
       "    .dataframe tbody tr th:only-of-type {\n",
       "        vertical-align: middle;\n",
       "    }\n",
       "\n",
       "    .dataframe tbody tr th {\n",
       "        vertical-align: top;\n",
       "    }\n",
       "\n",
       "    .dataframe thead th {\n",
       "        text-align: right;\n",
       "    }\n",
       "</style>\n",
       "<table border=\"1\" class=\"dataframe\">\n",
       "  <thead>\n",
       "    <tr style=\"text-align: right;\">\n",
       "      <th></th>\n",
       "      <th>Job_Title</th>\n",
       "      <th>Job_Desc_Req</th>\n",
       "    </tr>\n",
       "  </thead>\n",
       "  <tbody>\n",
       "    <tr>\n",
       "      <th>0</th>\n",
       "      <td>IT Manager (Data Science) Information Technolo...</td>\n",
       "      <td>Collaborate with data scientists to understand...</td>\n",
       "    </tr>\n",
       "    <tr>\n",
       "      <th>1</th>\n",
       "      <td>Senior Data Engineer Information Technology Jo...</td>\n",
       "      <td>Design and implement data architecture, pipeli...</td>\n",
       "    </tr>\n",
       "    <tr>\n",
       "      <th>2</th>\n",
       "      <td>DATA SCIENTIST | UP TO $8K | CONTRACT Informat...</td>\n",
       "      <td>3-8 years of experience in computer science, a...</td>\n",
       "    </tr>\n",
       "    <tr>\n",
       "      <th>3</th>\n",
       "      <td>Data Engineer Information Technology Jobs Sing...</td>\n",
       "      <td>Design and implement data architecture, pipeli...</td>\n",
       "    </tr>\n",
       "    <tr>\n",
       "      <th>4</th>\n",
       "      <td>Data Scientist (1-year contract)(7708) - Alexa...</td>\n",
       "      <td>Bachelor’s degree (required) in fields such as...</td>\n",
       "    </tr>\n",
       "    <tr>\n",
       "      <th>5</th>\n",
       "      <td>Data Engineer (Scala, SQL, Hadoop) Information...</td>\n",
       "      <td>Design, build, and optimize scalable data pipe...</td>\n",
       "    </tr>\n",
       "    <tr>\n",
       "      <th>6</th>\n",
       "      <td>Data Engineer (Scala, SQL, Hadoop) Information...</td>\n",
       "      <td>Design, build, and optimize scalable data pipe...</td>\n",
       "    </tr>\n",
       "    <tr>\n",
       "      <th>7</th>\n",
       "      <td>Service Delivery Manager, AWS Data Analytics -...</td>\n",
       "      <td>Oversee the end-to-end delivery of IT and data...</td>\n",
       "    </tr>\n",
       "    <tr>\n",
       "      <th>8</th>\n",
       "      <td>Data Architect Information Technology Jobs Sin...</td>\n",
       "      <td>Design conceptual and logical data models and ...</td>\n",
       "    </tr>\n",
       "    <tr>\n",
       "      <th>9</th>\n",
       "      <td>Associate AI Scientist / AI Scientist – Artifi...</td>\n",
       "      <td>Push the frontiers of what is possible in the ...</td>\n",
       "    </tr>\n",
       "  </tbody>\n",
       "</table>\n",
       "</div>"
      ],
      "text/plain": [
       "                                           Job_Title  \\\n",
       "0  IT Manager (Data Science) Information Technolo...   \n",
       "1  Senior Data Engineer Information Technology Jo...   \n",
       "2  DATA SCIENTIST | UP TO $8K | CONTRACT Informat...   \n",
       "3  Data Engineer Information Technology Jobs Sing...   \n",
       "4  Data Scientist (1-year contract)(7708) - Alexa...   \n",
       "5  Data Engineer (Scala, SQL, Hadoop) Information...   \n",
       "6  Data Engineer (Scala, SQL, Hadoop) Information...   \n",
       "7  Service Delivery Manager, AWS Data Analytics -...   \n",
       "8  Data Architect Information Technology Jobs Sin...   \n",
       "9  Associate AI Scientist / AI Scientist – Artifi...   \n",
       "\n",
       "                                        Job_Desc_Req  \n",
       "0  Collaborate with data scientists to understand...  \n",
       "1  Design and implement data architecture, pipeli...  \n",
       "2  3-8 years of experience in computer science, a...  \n",
       "3  Design and implement data architecture, pipeli...  \n",
       "4  Bachelor’s degree (required) in fields such as...  \n",
       "5  Design, build, and optimize scalable data pipe...  \n",
       "6  Design, build, and optimize scalable data pipe...  \n",
       "7  Oversee the end-to-end delivery of IT and data...  \n",
       "8  Design conceptual and logical data models and ...  \n",
       "9  Push the frontiers of what is possible in the ...  "
      ]
     },
     "execution_count": 38,
     "metadata": {},
     "output_type": "execute_result"
    }
   ],
   "source": [
    "# Reading in the scrapped job postings\n",
    "job_df = pd.read_csv('data/job_data_scrapped.csv')\n",
    "\n",
    "job_df.head(10)"
   ]
  },
  {
   "cell_type": "markdown",
   "metadata": {},
   "source": [
    "## Onto Skills & Knowledge extractions now"
   ]
  },
  {
   "cell_type": "markdown",
   "metadata": {},
   "source": [
    "## Setting up the span extraction helper functions"
   ]
  },
  {
   "cell_type": "code",
   "execution_count": 39,
   "metadata": {},
   "outputs": [],
   "source": [
    "from NER_skill_extractor import SkillKnowledgeExtractor\n",
    "from chunking import long_chunk"
   ]
  },
  {
   "cell_type": "code",
   "execution_count": 40,
   "metadata": {},
   "outputs": [
    {
     "name": "stderr",
     "output_type": "stream",
     "text": [
      "Device set to use mps:0\n",
      "Device set to use mps:0\n"
     ]
    }
   ],
   "source": [
    "# Initializing the extractor!\n",
    "extractor = SkillKnowledgeExtractor()"
   ]
  },
  {
   "cell_type": "code",
   "execution_count": 43,
   "metadata": {},
   "outputs": [
    {
     "data": {
      "text/plain": [
       "['building machine learning models at scale',\n",
       " 'using real - time data pipelines on platforms',\n",
       " 'analytical skills',\n",
       " 'communicate complex quantitative analysis in a clear, precise, and actionable manner',\n",
       " 'manipulating structured and unstructured data sources',\n",
       " 'communication and presentation skills',\n",
       " 'and innovation. Research and develop statistical and machine learning models for comprehensive data analysis Utilize algorithms and models',\n",
       " 'mine big data',\n",
       " 'perform data and error analysis,',\n",
       " 'ensure data uniformity and accuracy Apply data mining techniques',\n",
       " 'perform statistical analysis',\n",
       " 'generate insights at scale Work closely with both internal and external stakeholders',\n",
       " 'understand analytic needs',\n",
       " 'develop effective solutions Create machine learning - based tools or processes',\n",
       " 'monitor',\n",
       " 'Communicate analytic solutions to stakeholders',\n",
       " 'implement necessary improvements to operational systems Identify relevant structured and unstructured data sources',\n",
       " 'mining meaningful insights Build prototype analysis pipelines iteratively',\n",
       " 'provide scalable insights Contribute',\n",
       " 'building data analytics capabilities across the organization',\n",
       " 'emphasizing the strategic value of data',\n",
       " 'achieving business objectives']"
      ]
     },
     "execution_count": 43,
     "metadata": {},
     "output_type": "execute_result"
    }
   ],
   "source": [
    "test_job_req = job_df['Job_Desc_Req'][2]\n",
    "\n",
    "extracted_skills = extractor.extract_skills(test_job_req)\n",
    "\n",
    "[i['word'] for i in extracted_skills]"
   ]
  },
  {
   "cell_type": "code",
   "execution_count": 37,
   "metadata": {},
   "outputs": [
    {
     "name": "stdout",
     "output_type": "stream",
     "text": [
      "1\n"
     ]
    }
   ],
   "source": [
    "test_job_req_chunk = long_chunk(test_job_req)\n",
    "print(len(test_job_req_chunk))"
   ]
  },
  {
   "cell_type": "code",
   "execution_count": 48,
   "metadata": {},
   "outputs": [
    {
     "name": "stderr",
     "output_type": "stream",
     "text": [
      "Extracting Skills and Knowledge: 100%|██████████| 20/20 [00:02<00:00,  7.32it/s]\n"
     ]
    }
   ],
   "source": [
    "from tqdm import tqdm  # Progress tracking\n",
    "\n",
    "# Lists to store extracted skills and knowledge\n",
    "skill_list = []\n",
    "knowledge_list = []\n",
    "\n",
    "# Iterate through the 'Job_Desc_Req' column\n",
    "for row in tqdm(job_df['Job_Desc_Req'], desc='Extracting Skills and Knowledge'):\n",
    "    # Handle long texts by chunking using the correct tokenizer\n",
    "    text_chunks = long_chunk(row, context_length=200)\n",
    "\n",
    "    extracted_skills = []\n",
    "    extracted_knowledge = []\n",
    "\n",
    "    for chunk in text_chunks:\n",
    "        # Extract skills using Mike Zhang's model\n",
    "        skills_extracted = extractor.extract_skills(chunk)\n",
    "        skills = [u['word'] for u in skills_extracted]\n",
    "        if skills:\n",
    "            extracted_skills.extend(skills)\n",
    "\n",
    "        # Extract knowledge using Mike Zhang's model\n",
    "        knowledge_extracted = extractor.extract_knowledge(chunk)\n",
    "        knowledge = [u['word'] for u in knowledge_extracted]\n",
    "        if knowledge:\n",
    "            extracted_knowledge.extend(knowledge)\n",
    "\n",
    "    # Store results as lists\n",
    "    skill_list.append(extracted_skills)\n",
    "    knowledge_list.append(extracted_knowledge)\n",
    "\n",
    "# Convert lists to comma-separated strings\n",
    "job_df[\"Skills\"] = skill_list\n",
    "job_df[\"Knowledge\"] = knowledge_list\n",
    "\n",
    "\n",
    "# Convert lists to JSON strings before saving to CSV - this is very DELIBERATE as it will properly convert back to python lists when reloaded!\n",
    "job_df[\"Skills\"] = job_df[\"Skills\"].apply(json.dumps)  # Convert list to JSON string\n",
    "job_df[\"Knowledge\"] = job_df[\"Knowledge\"].apply(json.dumps)\n",
    "\n"
   ]
  },
  {
   "cell_type": "code",
   "execution_count": 50,
   "metadata": {},
   "outputs": [
    {
     "data": {
      "text/html": [
       "<div>\n",
       "<style scoped>\n",
       "    .dataframe tbody tr th:only-of-type {\n",
       "        vertical-align: middle;\n",
       "    }\n",
       "\n",
       "    .dataframe tbody tr th {\n",
       "        vertical-align: top;\n",
       "    }\n",
       "\n",
       "    .dataframe thead th {\n",
       "        text-align: right;\n",
       "    }\n",
       "</style>\n",
       "<table border=\"1\" class=\"dataframe\">\n",
       "  <thead>\n",
       "    <tr style=\"text-align: right;\">\n",
       "      <th></th>\n",
       "      <th>Job_Title</th>\n",
       "      <th>Job_Desc_Req</th>\n",
       "      <th>Skills</th>\n",
       "      <th>Knowledge</th>\n",
       "    </tr>\n",
       "  </thead>\n",
       "  <tbody>\n",
       "    <tr>\n",
       "      <th>0</th>\n",
       "      <td>IT Manager (Data Science) Information Technolo...</td>\n",
       "      <td>Collaborate with data scientists to understand...</td>\n",
       "      <td>[\"Collaborate with data scientists\", \"support ...</td>\n",
       "      <td>[\"data\", \"AI\", \"machine learning\", \"IT\", \"AI\",...</td>\n",
       "    </tr>\n",
       "    <tr>\n",
       "      <th>1</th>\n",
       "      <td>Senior Data Engineer Information Technology Jo...</td>\n",
       "      <td>Design and implement data architecture, pipeli...</td>\n",
       "      <td>[\"Design and implement data architecture pipel...</td>\n",
       "      <td>[\"data architecture pipelines\", \"ETL\", \"data p...</td>\n",
       "    </tr>\n",
       "    <tr>\n",
       "      <th>2</th>\n",
       "      <td>DATA SCIENTIST | UP TO $8K | CONTRACT Informat...</td>\n",
       "      <td>3-8 years of experience in computer science, a...</td>\n",
       "      <td>[\"building machine learning models at scale\", ...</td>\n",
       "      <td>[\"computer science applied mathematics\", \"quan...</td>\n",
       "    </tr>\n",
       "    <tr>\n",
       "      <th>3</th>\n",
       "      <td>Data Engineer Information Technology Jobs Sing...</td>\n",
       "      <td>Design and implement data architecture, pipeli...</td>\n",
       "      <td>[\"Design and implement data architecture pipel...</td>\n",
       "      <td>[\"data architecture pipelines\", \"ETL\", \"data p...</td>\n",
       "    </tr>\n",
       "    <tr>\n",
       "      <th>4</th>\n",
       "      <td>Data Scientist (1-year contract)(7708) - Alexa...</td>\n",
       "      <td>Bachelor’s degree (required) in fields such as...</td>\n",
       "      <td>[\"analytical and critical thinking skills\", \"e...</td>\n",
       "      <td>[\"Bachelor s degree\", \"Data Science Computer S...</td>\n",
       "    </tr>\n",
       "    <tr>\n",
       "      <th>5</th>\n",
       "      <td>Data Engineer (Scala, SQL, Hadoop) Information...</td>\n",
       "      <td>Design, build, and optimize scalable data pipe...</td>\n",
       "      <td>[\"Design build and optimize scalable data pipe...</td>\n",
       "      <td>[\"data pipelines\", \"Scala\", \"Hadoop\", \"ETL\", \"...</td>\n",
       "    </tr>\n",
       "    <tr>\n",
       "      <th>6</th>\n",
       "      <td>Data Engineer (Scala, SQL, Hadoop) Information...</td>\n",
       "      <td>Design, build, and optimize scalable data pipe...</td>\n",
       "      <td>[\"Design build and optimize scalable data pipe...</td>\n",
       "      <td>[\"data pipelines\", \"Scala\", \"Hadoop\", \"ETL\", \"...</td>\n",
       "    </tr>\n",
       "    <tr>\n",
       "      <th>7</th>\n",
       "      <td>Service Delivery Manager, AWS Data Analytics -...</td>\n",
       "      <td>Oversee the end-to-end delivery of IT and data...</td>\n",
       "      <td>[\"Oversee the end to end delivery of IT and da...</td>\n",
       "      <td>[\"IT\", \"data analytics\", \"delivery\", \"data ana...</td>\n",
       "    </tr>\n",
       "    <tr>\n",
       "      <th>8</th>\n",
       "      <td>Data Architect Information Technology Jobs Sin...</td>\n",
       "      <td>Design conceptual and logical data models and ...</td>\n",
       "      <td>[\"Design conceptual and logical data models an...</td>\n",
       "      <td>[\"Data\", \"database structure principles\", \"dat...</td>\n",
       "    </tr>\n",
       "    <tr>\n",
       "      <th>9</th>\n",
       "      <td>Associate AI Scientist / AI Scientist – Artifi...</td>\n",
       "      <td>Push the frontiers of what is possible in the ...</td>\n",
       "      <td>[\"Push the frontiers of what is possible\", \"cr...</td>\n",
       "      <td>[\"artificial intelligence\", \"machine learning\"...</td>\n",
       "    </tr>\n",
       "  </tbody>\n",
       "</table>\n",
       "</div>"
      ],
      "text/plain": [
       "                                           Job_Title  \\\n",
       "0  IT Manager (Data Science) Information Technolo...   \n",
       "1  Senior Data Engineer Information Technology Jo...   \n",
       "2  DATA SCIENTIST | UP TO $8K | CONTRACT Informat...   \n",
       "3  Data Engineer Information Technology Jobs Sing...   \n",
       "4  Data Scientist (1-year contract)(7708) - Alexa...   \n",
       "5  Data Engineer (Scala, SQL, Hadoop) Information...   \n",
       "6  Data Engineer (Scala, SQL, Hadoop) Information...   \n",
       "7  Service Delivery Manager, AWS Data Analytics -...   \n",
       "8  Data Architect Information Technology Jobs Sin...   \n",
       "9  Associate AI Scientist / AI Scientist – Artifi...   \n",
       "\n",
       "                                        Job_Desc_Req  \\\n",
       "0  Collaborate with data scientists to understand...   \n",
       "1  Design and implement data architecture, pipeli...   \n",
       "2  3-8 years of experience in computer science, a...   \n",
       "3  Design and implement data architecture, pipeli...   \n",
       "4  Bachelor’s degree (required) in fields such as...   \n",
       "5  Design, build, and optimize scalable data pipe...   \n",
       "6  Design, build, and optimize scalable data pipe...   \n",
       "7  Oversee the end-to-end delivery of IT and data...   \n",
       "8  Design conceptual and logical data models and ...   \n",
       "9  Push the frontiers of what is possible in the ...   \n",
       "\n",
       "                                              Skills  \\\n",
       "0  [\"Collaborate with data scientists\", \"support ...   \n",
       "1  [\"Design and implement data architecture pipel...   \n",
       "2  [\"building machine learning models at scale\", ...   \n",
       "3  [\"Design and implement data architecture pipel...   \n",
       "4  [\"analytical and critical thinking skills\", \"e...   \n",
       "5  [\"Design build and optimize scalable data pipe...   \n",
       "6  [\"Design build and optimize scalable data pipe...   \n",
       "7  [\"Oversee the end to end delivery of IT and da...   \n",
       "8  [\"Design conceptual and logical data models an...   \n",
       "9  [\"Push the frontiers of what is possible\", \"cr...   \n",
       "\n",
       "                                           Knowledge  \n",
       "0  [\"data\", \"AI\", \"machine learning\", \"IT\", \"AI\",...  \n",
       "1  [\"data architecture pipelines\", \"ETL\", \"data p...  \n",
       "2  [\"computer science applied mathematics\", \"quan...  \n",
       "3  [\"data architecture pipelines\", \"ETL\", \"data p...  \n",
       "4  [\"Bachelor s degree\", \"Data Science Computer S...  \n",
       "5  [\"data pipelines\", \"Scala\", \"Hadoop\", \"ETL\", \"...  \n",
       "6  [\"data pipelines\", \"Scala\", \"Hadoop\", \"ETL\", \"...  \n",
       "7  [\"IT\", \"data analytics\", \"delivery\", \"data ana...  \n",
       "8  [\"Data\", \"database structure principles\", \"dat...  \n",
       "9  [\"artificial intelligence\", \"machine learning\"...  "
      ]
     },
     "execution_count": 50,
     "metadata": {},
     "output_type": "execute_result"
    }
   ],
   "source": [
    "job_df.head(10)"
   ]
  },
  {
   "cell_type": "code",
   "execution_count": 51,
   "metadata": {},
   "outputs": [],
   "source": [
    "job_df.to_csv('data/job_data_processed.csv', index=False)"
   ]
  },
  {
   "cell_type": "markdown",
   "metadata": {},
   "source": [
    "## Now lets try reading in the processed job postings dataset"
   ]
  },
  {
   "cell_type": "code",
   "execution_count": 58,
   "metadata": {},
   "outputs": [
    {
     "data": {
      "text/html": [
       "<div>\n",
       "<style scoped>\n",
       "    .dataframe tbody tr th:only-of-type {\n",
       "        vertical-align: middle;\n",
       "    }\n",
       "\n",
       "    .dataframe tbody tr th {\n",
       "        vertical-align: top;\n",
       "    }\n",
       "\n",
       "    .dataframe thead th {\n",
       "        text-align: right;\n",
       "    }\n",
       "</style>\n",
       "<table border=\"1\" class=\"dataframe\">\n",
       "  <thead>\n",
       "    <tr style=\"text-align: right;\">\n",
       "      <th></th>\n",
       "      <th>Job_Title</th>\n",
       "      <th>Job_Desc_Req</th>\n",
       "      <th>Skills</th>\n",
       "      <th>Knowledge</th>\n",
       "    </tr>\n",
       "  </thead>\n",
       "  <tbody>\n",
       "    <tr>\n",
       "      <th>0</th>\n",
       "      <td>IT Manager (Data Science) Information Technolo...</td>\n",
       "      <td>Collaborate with data scientists to understand...</td>\n",
       "      <td>[\"Collaborate with data scientists\", \"support ...</td>\n",
       "      <td>[\"data\", \"AI\", \"machine learning\", \"IT\", \"AI\",...</td>\n",
       "    </tr>\n",
       "    <tr>\n",
       "      <th>1</th>\n",
       "      <td>Senior Data Engineer Information Technology Jo...</td>\n",
       "      <td>Design and implement data architecture, pipeli...</td>\n",
       "      <td>[\"Design and implement data architecture pipel...</td>\n",
       "      <td>[\"data architecture pipelines\", \"ETL\", \"data p...</td>\n",
       "    </tr>\n",
       "    <tr>\n",
       "      <th>2</th>\n",
       "      <td>DATA SCIENTIST | UP TO $8K | CONTRACT Informat...</td>\n",
       "      <td>3-8 years of experience in computer science, a...</td>\n",
       "      <td>[\"building machine learning models at scale\", ...</td>\n",
       "      <td>[\"computer science applied mathematics\", \"quan...</td>\n",
       "    </tr>\n",
       "    <tr>\n",
       "      <th>3</th>\n",
       "      <td>Data Engineer Information Technology Jobs Sing...</td>\n",
       "      <td>Design and implement data architecture, pipeli...</td>\n",
       "      <td>[\"Design and implement data architecture pipel...</td>\n",
       "      <td>[\"data architecture pipelines\", \"ETL\", \"data p...</td>\n",
       "    </tr>\n",
       "    <tr>\n",
       "      <th>4</th>\n",
       "      <td>Data Scientist (1-year contract)(7708) - Alexa...</td>\n",
       "      <td>Bachelor’s degree (required) in fields such as...</td>\n",
       "      <td>[\"analytical and critical thinking skills\", \"e...</td>\n",
       "      <td>[\"Bachelor s degree\", \"Data Science Computer S...</td>\n",
       "    </tr>\n",
       "    <tr>\n",
       "      <th>5</th>\n",
       "      <td>Data Engineer (Scala, SQL, Hadoop) Information...</td>\n",
       "      <td>Design, build, and optimize scalable data pipe...</td>\n",
       "      <td>[\"Design build and optimize scalable data pipe...</td>\n",
       "      <td>[\"data pipelines\", \"Scala\", \"Hadoop\", \"ETL\", \"...</td>\n",
       "    </tr>\n",
       "    <tr>\n",
       "      <th>6</th>\n",
       "      <td>Data Engineer (Scala, SQL, Hadoop) Information...</td>\n",
       "      <td>Design, build, and optimize scalable data pipe...</td>\n",
       "      <td>[\"Design build and optimize scalable data pipe...</td>\n",
       "      <td>[\"data pipelines\", \"Scala\", \"Hadoop\", \"ETL\", \"...</td>\n",
       "    </tr>\n",
       "    <tr>\n",
       "      <th>7</th>\n",
       "      <td>Service Delivery Manager, AWS Data Analytics -...</td>\n",
       "      <td>Oversee the end-to-end delivery of IT and data...</td>\n",
       "      <td>[\"Oversee the end to end delivery of IT and da...</td>\n",
       "      <td>[\"IT\", \"data analytics\", \"delivery\", \"data ana...</td>\n",
       "    </tr>\n",
       "    <tr>\n",
       "      <th>8</th>\n",
       "      <td>Data Architect Information Technology Jobs Sin...</td>\n",
       "      <td>Design conceptual and logical data models and ...</td>\n",
       "      <td>[\"Design conceptual and logical data models an...</td>\n",
       "      <td>[\"Data\", \"database structure principles\", \"dat...</td>\n",
       "    </tr>\n",
       "    <tr>\n",
       "      <th>9</th>\n",
       "      <td>Associate AI Scientist / AI Scientist – Artifi...</td>\n",
       "      <td>Push the frontiers of what is possible in the ...</td>\n",
       "      <td>[\"Push the frontiers of what is possible\", \"cr...</td>\n",
       "      <td>[\"artificial intelligence\", \"machine learning\"...</td>\n",
       "    </tr>\n",
       "  </tbody>\n",
       "</table>\n",
       "</div>"
      ],
      "text/plain": [
       "                                           Job_Title  \\\n",
       "0  IT Manager (Data Science) Information Technolo...   \n",
       "1  Senior Data Engineer Information Technology Jo...   \n",
       "2  DATA SCIENTIST | UP TO $8K | CONTRACT Informat...   \n",
       "3  Data Engineer Information Technology Jobs Sing...   \n",
       "4  Data Scientist (1-year contract)(7708) - Alexa...   \n",
       "5  Data Engineer (Scala, SQL, Hadoop) Information...   \n",
       "6  Data Engineer (Scala, SQL, Hadoop) Information...   \n",
       "7  Service Delivery Manager, AWS Data Analytics -...   \n",
       "8  Data Architect Information Technology Jobs Sin...   \n",
       "9  Associate AI Scientist / AI Scientist – Artifi...   \n",
       "\n",
       "                                        Job_Desc_Req  \\\n",
       "0  Collaborate with data scientists to understand...   \n",
       "1  Design and implement data architecture, pipeli...   \n",
       "2  3-8 years of experience in computer science, a...   \n",
       "3  Design and implement data architecture, pipeli...   \n",
       "4  Bachelor’s degree (required) in fields such as...   \n",
       "5  Design, build, and optimize scalable data pipe...   \n",
       "6  Design, build, and optimize scalable data pipe...   \n",
       "7  Oversee the end-to-end delivery of IT and data...   \n",
       "8  Design conceptual and logical data models and ...   \n",
       "9  Push the frontiers of what is possible in the ...   \n",
       "\n",
       "                                              Skills  \\\n",
       "0  [\"Collaborate with data scientists\", \"support ...   \n",
       "1  [\"Design and implement data architecture pipel...   \n",
       "2  [\"building machine learning models at scale\", ...   \n",
       "3  [\"Design and implement data architecture pipel...   \n",
       "4  [\"analytical and critical thinking skills\", \"e...   \n",
       "5  [\"Design build and optimize scalable data pipe...   \n",
       "6  [\"Design build and optimize scalable data pipe...   \n",
       "7  [\"Oversee the end to end delivery of IT and da...   \n",
       "8  [\"Design conceptual and logical data models an...   \n",
       "9  [\"Push the frontiers of what is possible\", \"cr...   \n",
       "\n",
       "                                           Knowledge  \n",
       "0  [\"data\", \"AI\", \"machine learning\", \"IT\", \"AI\",...  \n",
       "1  [\"data architecture pipelines\", \"ETL\", \"data p...  \n",
       "2  [\"computer science applied mathematics\", \"quan...  \n",
       "3  [\"data architecture pipelines\", \"ETL\", \"data p...  \n",
       "4  [\"Bachelor s degree\", \"Data Science Computer S...  \n",
       "5  [\"data pipelines\", \"Scala\", \"Hadoop\", \"ETL\", \"...  \n",
       "6  [\"data pipelines\", \"Scala\", \"Hadoop\", \"ETL\", \"...  \n",
       "7  [\"IT\", \"data analytics\", \"delivery\", \"data ana...  \n",
       "8  [\"Data\", \"database structure principles\", \"dat...  \n",
       "9  [\"artificial intelligence\", \"machine learning\"...  "
      ]
     },
     "execution_count": 58,
     "metadata": {},
     "output_type": "execute_result"
    }
   ],
   "source": [
    "job_df = pd.read_csv('data/job_data_processed.csv')\n",
    "\n",
    "job_df.head(10)"
   ]
  },
  {
   "cell_type": "code",
   "execution_count": 59,
   "metadata": {},
   "outputs": [
    {
     "data": {
      "text/plain": [
       "'[\"Collaborate with data scientists\", \"support AI and machine learning initiatives effectively Ensure IT infrastructure is capable\", \"supporting AI applications\", \"providing high performance computing resources and cloud based platforms Facilitate data accessibility\", \"ensuring security and compliance Work with data scientists\", \"operationalize machine learning models\", \"setting up deployment monitoring and continuous improvement frameworks Evaluate and implement AI ML platforms tools and technologies\", \"enhance data science workflows\", \"Oversee data security protocols\", \"protect sensitive information\", \"ensure compliance with data privacy regulations Support data visualization initiatives\", \"provide technical guidance to data science and BI teams\", \"scale data analysis Manage IT systems for optimal performance ensuring scalability\", \"data volumes grow and applications\", \"overseeing model deployment processes\", \"support data storytelling initiatives\"]'"
      ]
     },
     "execution_count": 59,
     "metadata": {},
     "output_type": "execute_result"
    }
   ],
   "source": [
    "job_df['Skills'][0]"
   ]
  },
  {
   "cell_type": "markdown",
   "metadata": {},
   "source": [
    "As you can see - it is not a proper list yet! So I will use *literal_eval* to transform it to a proper list structure."
   ]
  },
  {
   "cell_type": "code",
   "execution_count": 60,
   "metadata": {},
   "outputs": [],
   "source": [
    "#Converting Skills and Knowledge fields back to proper python lists\n",
    "job_df['Skills'] = job_df['Skills'].apply(ast.literal_eval)\n",
    "job_df['Knowledge'] = job_df['Knowledge'].apply(ast.literal_eval)"
   ]
  },
  {
   "cell_type": "code",
   "execution_count": 61,
   "metadata": {},
   "outputs": [
    {
     "name": "stdout",
     "output_type": "stream",
     "text": [
      "['Collaborate with data scientists', 'support AI and machine learning initiatives effectively Ensure IT infrastructure is capable', 'supporting AI applications', 'providing high performance computing resources and cloud based platforms Facilitate data accessibility', 'ensuring security and compliance Work with data scientists', 'operationalize machine learning models', 'setting up deployment monitoring and continuous improvement frameworks Evaluate and implement AI ML platforms tools and technologies', 'enhance data science workflows', 'Oversee data security protocols', 'protect sensitive information', 'ensure compliance with data privacy regulations Support data visualization initiatives', 'provide technical guidance to data science and BI teams', 'scale data analysis Manage IT systems for optimal performance ensuring scalability', 'data volumes grow and applications', 'overseeing model deployment processes', 'support data storytelling initiatives']\n",
      "<class 'list'>\n",
      "0     [data, AI, machine learning, IT, AI, cloud, CR...\n",
      "1     [data architecture pipelines, ETL, data platfo...\n",
      "2     [computer science applied mathematics, quantit...\n",
      "3     [data architecture pipelines, ETL, data platfo...\n",
      "4     [Bachelor s degree, Data Science Computer Scie...\n",
      "5     [data pipelines, Scala, Hadoop, ETL, SQL queri...\n",
      "6     [data pipelines, Scala, Hadoop, ETL, SQL queri...\n",
      "7     [IT, data analytics, delivery, data analytics,...\n",
      "8     [Data, database structure principles, data min...\n",
      "9     [artificial intelligence, machine learning, da...\n",
      "10    [Data Services, data science, engineering, mac...\n",
      "11    [data models, flowcharts, database structure p...\n",
      "12      [AI ML models, AI ML, data governance, quality]\n",
      "13    [Data Science, Python, Data Analysis Interpret...\n",
      "14    [ML, AI ML, Data Science, Data Analysis Interp...\n",
      "15    [AI ML, Data Science, Data Analysis Interpreta...\n",
      "16    [Data Science analysis, Python Machine Learnin...\n",
      "17    [Data Science analysis, Python Machine Learnin...\n",
      "18    [data mining data modelling natural language p...\n",
      "19    [data mining data modelling natural language p...\n",
      "Name: Knowledge, dtype: object\n",
      "<class 'list'>\n"
     ]
    }
   ],
   "source": [
    "#Checking for Skills\n",
    "print(job_df['Skills'][0])\n",
    "print(type(job_df['Skills'][0]))\n",
    "\n",
    "#Checking for Knowledge\n",
    "print(job_df['Knowledge'])\n",
    "print(type(job_df['Knowledge'][0]))\n",
    "      "
   ]
  },
  {
   "cell_type": "code",
   "execution_count": null,
   "metadata": {},
   "outputs": [],
   "source": []
  }
 ],
 "metadata": {
  "kernelspec": {
   "display_name": "lewagon",
   "language": "python",
   "name": "python3"
  },
  "language_info": {
   "codemirror_mode": {
    "name": "ipython",
    "version": 3
   },
   "file_extension": ".py",
   "mimetype": "text/x-python",
   "name": "python",
   "nbconvert_exporter": "python",
   "pygments_lexer": "ipython3",
   "version": "3.10.6"
  }
 },
 "nbformat": 4,
 "nbformat_minor": 2
}
